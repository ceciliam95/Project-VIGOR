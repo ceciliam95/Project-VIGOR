{
 "cells": [
  {
   "cell_type": "code",
   "execution_count": 2,
   "metadata": {},
   "outputs": [],
   "source": [
    "import pandas as pd\n",
    "\n",
    "import numpy as np\n",
    "import matplotlib.pyplot as plt \n",
    "import spacy \n",
    "import math\n",
    "import scipy\n",
    "import seaborn as sns"
   ]
  },
  {
   "cell_type": "code",
   "execution_count": 44,
   "metadata": {},
   "outputs": [],
   "source": [
    "user_v2 = pd.read_pickle(\"C:/Users/61424/Desktop/MBusA/Module 5/Business Case Study/yelp_dataset/User/user_v2.pkl\")"
   ]
  },
  {
   "cell_type": "markdown",
   "metadata": {},
   "source": [
    "#Use KNN to segment Users "
   ]
  },
  {
   "cell_type": "code",
   "execution_count": 46,
   "metadata": {},
   "outputs": [
    {
     "name": "stdout",
     "output_type": "stream",
     "text": [
      "Index(['user_id', 'average_stars', 'compliment_cool', 'compliment_cute',\n",
      "       'compliment_funny', 'compliment_hot', 'compliment_list',\n",
      "       'compliment_more', 'compliment_note', 'compliment_photos',\n",
      "       'compliment_plain', 'compliment_profile', 'compliment_writer', 'cool',\n",
      "       'elite', 'fans', 'friends', 'funny', 'name', 'review_count', 'useful',\n",
      "       'yelping_since', 'friend_count', 'yelping_since_date',\n",
      "       'elite_year_count', 'yelp_year_count', 'review_business_count',\n",
      "       'review_category_parent', 'Rfriend_count'],\n",
      "      dtype='object')\n",
      "<class 'pandas.core.frame.DataFrame'>\n",
      "Int64Index: 1095628 entries, 0 to 1095627\n",
      "Data columns (total 29 columns):\n",
      "user_id                   1095628 non-null object\n",
      "average_stars             1095628 non-null float64\n",
      "compliment_cool           1095628 non-null int64\n",
      "compliment_cute           1095628 non-null int64\n",
      "compliment_funny          1095628 non-null int64\n",
      "compliment_hot            1095628 non-null int64\n",
      "compliment_list           1095628 non-null int64\n",
      "compliment_more           1095628 non-null int64\n",
      "compliment_note           1095628 non-null int64\n",
      "compliment_photos         1095628 non-null int64\n",
      "compliment_plain          1095628 non-null int64\n",
      "compliment_profile        1095628 non-null int64\n",
      "compliment_writer         1095628 non-null int64\n",
      "cool                      1095628 non-null int64\n",
      "elite                     1095628 non-null object\n",
      "fans                      1095628 non-null int64\n",
      "friends                   1095628 non-null object\n",
      "funny                     1095628 non-null int64\n",
      "name                      1095628 non-null object\n",
      "review_count              1095628 non-null int64\n",
      "useful                    1095628 non-null int64\n",
      "yelping_since             1095628 non-null object\n",
      "friend_count              1095628 non-null int64\n",
      "yelping_since_date        1095628 non-null datetime64[ns]\n",
      "elite_year_count          1095628 non-null int64\n",
      "yelp_year_count           1095628 non-null float64\n",
      "review_business_count     1095628 non-null int64\n",
      "review_category_parent    1095628 non-null int64\n",
      "Rfriend_count             1095628 non-null float64\n",
      "dtypes: datetime64[ns](1), float64(3), int64(20), object(5)\n",
      "memory usage: 250.8+ MB\n",
      "None\n"
     ]
    }
   ],
   "source": [
    "print(user_v2.columns)\n",
    "print(user_v2.info())"
   ]
  },
  {
   "cell_type": "code",
   "execution_count": 47,
   "metadata": {},
   "outputs": [],
   "source": [
    "y_set = user_v2.loc[:,'user_id']\n",
    "x_set = user_v2.loc[:,['fans', 'review_count', 'useful', 'friend_count',\n",
    "        'elite_year_count', 'yelp_year_count',\n",
    "       'Rfriend_count','review_business_count','review_category_parent']]\n"
   ]
  },
  {
   "cell_type": "code",
   "execution_count": 48,
   "metadata": {},
   "outputs": [
    {
     "name": "stderr",
     "output_type": "stream",
     "text": [
      "C:\\Users\\61424\\AppData\\Local\\Continuum\\anaconda3\\lib\\site-packages\\sklearn\\preprocessing\\data.py:625: DataConversionWarning: Data with input dtype int64, float64 were all converted to float64 by StandardScaler.\n",
      "  return self.partial_fit(X, y)\n"
     ]
    },
    {
     "data": {
      "text/plain": [
       "StandardScaler(copy=True, with_mean=True, with_std=True)"
      ]
     },
     "execution_count": 48,
     "metadata": {},
     "output_type": "execute_result"
    }
   ],
   "source": [
    "#feature scaling\n",
    "from sklearn.preprocessing import StandardScaler\n",
    "scaler = StandardScaler()\n",
    "scaler.fit(x_set)"
   ]
  },
  {
   "cell_type": "code",
   "execution_count": 49,
   "metadata": {},
   "outputs": [],
   "source": [
    "from sklearn.cluster import KMeans \n",
    "\n",
    "# Fit KMeans and calculate SSE for each *k* \n",
    "sse = {} \n",
    "for k in range(1, 11): \n",
    "    kmeans = KMeans(n_clusters=k, random_state=1)     \n",
    "    kmeans.fit(x_set)     \n",
    "    sse[k] = kmeans.inertia_ # sum of squared distances to closest cluster cente\n",
    "    "
   ]
  },
  {
   "cell_type": "code",
   "execution_count": 50,
   "metadata": {},
   "outputs": [
    {
     "name": "stderr",
     "output_type": "stream",
     "text": [
      "C:\\Users\\61424\\AppData\\Local\\Continuum\\anaconda3\\lib\\site-packages\\ipykernel_launcher.py:1: DataConversionWarning: Data with input dtype int64, float64 were all converted to float64 by StandardScaler.\n",
      "  \"\"\"Entry point for launching an IPython kernel.\n"
     ]
    },
    {
     "data": {
      "image/png": "[encoded data removed]",
      "text/plain": [
       "<Figure size 432x288 with 1 Axes>"
      ]
     },
     "metadata": {
      "needs_background": "light"
     },
     "output_type": "display_data"
    }
   ],
   "source": [
    "x_set = scaler.transform(x_set)\n",
    "# Plot SSE for each *k* \n",
    "plt.title('The Elbow Method') \n",
    "plt.xlabel('k'); plt.ylabel('SSE') \n",
    "sns.pointplot(x=list(sse.keys()), y=list(sse.values())) \n",
    "plt.show()"
   ]
  },
  {
   "cell_type": "code",
   "execution_count": 56,
   "metadata": {},
   "outputs": [
    {
     "data": {
      "text/plain": [
       "KMeans(algorithm='auto', copy_x=True, init='k-means++', max_iter=300,\n",
       "    n_clusters=5, n_init=10, n_jobs=None, precompute_distances='auto',\n",
       "    random_state=None, tol=0.0001, verbose=0)"
      ]
     },
     "execution_count": 56,
     "metadata": {},
     "output_type": "execute_result"
    }
   ],
   "source": [
    "from sklearn.cluster import KMeans\n",
    "number = 5\n",
    "classifier = KMeans(n_clusters=number)\n",
    "classifier.fit(x_set, y_set)"
   ]
  },
  {
   "cell_type": "code",
   "execution_count": 57,
   "metadata": {},
   "outputs": [],
   "source": [
    "user_v2['lables'] = classifier.labels_"
   ]
  },
  {
   "cell_type": "code",
   "execution_count": 58,
   "metadata": {},
   "outputs": [],
   "source": [
    "#user_v2"
   ]
  },
  {
   "cell_type": "code",
   "execution_count": 59,
   "metadata": {},
   "outputs": [
    {
     "data": {
      "text/html": [
       "<div>\n",
       "<style scoped>\n",
       "    .dataframe tbody tr th:only-of-type {\n",
       "        vertical-align: middle;\n",
       "    }\n",
       "\n",
       "    .dataframe tbody tr th {\n",
       "        vertical-align: top;\n",
       "    }\n",
       "\n",
       "    .dataframe thead th {\n",
       "        text-align: right;\n",
       "    }\n",
       "</style>\n",
       "<table border=\"1\" class=\"dataframe\">\n",
       "  <thead>\n",
       "    <tr style=\"text-align: right;\">\n",
       "      <th></th>\n",
       "      <th>fans</th>\n",
       "      <th>review_count</th>\n",
       "      <th>useful</th>\n",
       "      <th>friend_count</th>\n",
       "      <th>elite_year_count</th>\n",
       "      <th>yelp_year_count</th>\n",
       "      <th>Rfriend_count</th>\n",
       "      <th>review_business_count</th>\n",
       "      <th>review_category_parent</th>\n",
       "    </tr>\n",
       "    <tr>\n",
       "      <th>lables</th>\n",
       "      <th></th>\n",
       "      <th></th>\n",
       "      <th></th>\n",
       "      <th></th>\n",
       "      <th></th>\n",
       "      <th></th>\n",
       "      <th></th>\n",
       "      <th></th>\n",
       "      <th></th>\n",
       "    </tr>\n",
       "  </thead>\n",
       "  <tbody>\n",
       "    <tr>\n",
       "      <th>0</th>\n",
       "      <td>1.492739</td>\n",
       "      <td>32.533197</td>\n",
       "      <td>40.121604</td>\n",
       "      <td>51.364283</td>\n",
       "      <td>1.077412</td>\n",
       "      <td>7.187405</td>\n",
       "      <td>7.481829</td>\n",
       "      <td>3.092181</td>\n",
       "      <td>2.517167</td>\n",
       "    </tr>\n",
       "    <tr>\n",
       "      <th>1</th>\n",
       "      <td>0.251852</td>\n",
       "      <td>9.051770</td>\n",
       "      <td>6.426012</td>\n",
       "      <td>34.674164</td>\n",
       "      <td>1.009263</td>\n",
       "      <td>2.907431</td>\n",
       "      <td>3.533659</td>\n",
       "      <td>2.019830</td>\n",
       "      <td>1.776248</td>\n",
       "    </tr>\n",
       "    <tr>\n",
       "      <th>2</th>\n",
       "      <td>456.828526</td>\n",
       "      <td>1313.147436</td>\n",
       "      <td>14658.338141</td>\n",
       "      <td>3407.288462</td>\n",
       "      <td>6.413462</td>\n",
       "      <td>8.211538</td>\n",
       "      <td>1418.660256</td>\n",
       "      <td>60.719551</td>\n",
       "      <td>12.437500</td>\n",
       "    </tr>\n",
       "    <tr>\n",
       "      <th>3</th>\n",
       "      <td>48.301101</td>\n",
       "      <td>447.756632</td>\n",
       "      <td>1290.683667</td>\n",
       "      <td>435.857893</td>\n",
       "      <td>5.529808</td>\n",
       "      <td>8.271094</td>\n",
       "      <td>139.935022</td>\n",
       "      <td>8.434423</td>\n",
       "      <td>5.152148</td>\n",
       "    </tr>\n",
       "    <tr>\n",
       "      <th>4</th>\n",
       "      <td>7.685508</td>\n",
       "      <td>123.729372</td>\n",
       "      <td>215.555245</td>\n",
       "      <td>106.319091</td>\n",
       "      <td>1.853281</td>\n",
       "      <td>5.930102</td>\n",
       "      <td>42.700588</td>\n",
       "      <td>49.541161</td>\n",
       "      <td>18.101527</td>\n",
       "    </tr>\n",
       "  </tbody>\n",
       "</table>\n",
       "</div>"
      ],
      "text/plain": [
       "              fans  review_count        useful  friend_count  \\\n",
       "lables                                                         \n",
       "0         1.492739     32.533197     40.121604     51.364283   \n",
       "1         0.251852      9.051770      6.426012     34.674164   \n",
       "2       456.828526   1313.147436  14658.338141   3407.288462   \n",
       "3        48.301101    447.756632   1290.683667    435.857893   \n",
       "4         7.685508    123.729372    215.555245    106.319091   \n",
       "\n",
       "        elite_year_count  yelp_year_count  Rfriend_count  \\\n",
       "lables                                                     \n",
       "0               1.077412         7.187405       7.481829   \n",
       "1               1.009263         2.907431       3.533659   \n",
       "2               6.413462         8.211538    1418.660256   \n",
       "3               5.529808         8.271094     139.935022   \n",
       "4               1.853281         5.930102      42.700588   \n",
       "\n",
       "        review_business_count  review_category_parent  \n",
       "lables                                                 \n",
       "0                    3.092181                2.517167  \n",
       "1                    2.019830                1.776248  \n",
       "2                   60.719551               12.437500  \n",
       "3                    8.434423                5.152148  \n",
       "4                   49.541161               18.101527  "
      ]
     },
     "execution_count": 59,
     "metadata": {},
     "output_type": "execute_result"
    }
   ],
   "source": [
    "user_v2.groupby('lables')['fans', 'review_count', 'useful', 'friend_count',\n",
    "        'elite_year_count', 'yelp_year_count',\n",
    "       'Rfriend_count','review_business_count', 'review_category_parent'].mean()"
   ]
  },
  {
   "cell_type": "code",
   "execution_count": 60,
   "metadata": {},
   "outputs": [
    {
     "data": {
      "text/plain": [
       "lables\n",
       "0    425282\n",
       "1    631105\n",
       "2       624\n",
       "3     17529\n",
       "4     21088\n",
       "Name: user_id, dtype: int64"
      ]
     },
     "execution_count": 60,
     "metadata": {},
     "output_type": "execute_result"
    }
   ],
   "source": [
    "user_v2.groupby('lables')['user_id'].count()"
   ]
  },
  {
   "cell_type": "code",
   "execution_count": 61,
   "metadata": {},
   "outputs": [
    {
     "data": {
      "text/plain": [
       "1095628"
      ]
     },
     "execution_count": 61,
     "metadata": {},
     "output_type": "execute_result"
    }
   ],
   "source": [
    "len(user_v2['user_id'].unique())"
   ]
  },
  {
   "cell_type": "code",
   "execution_count": null,
   "metadata": {},
   "outputs": [],
   "source": []
  }
 ],
 "metadata": {
  "kernelspec": {
   "display_name": "Python 3",
   "language": "python",
   "name": "python3"
  },
  "language_info": {
   "codemirror_mode": {
    "name": "ipython",
    "version": 3
   },
   "file_extension": ".py",
   "mimetype": "text/x-python",
   "name": "python",
   "nbconvert_exporter": "python",
   "pygments_lexer": "ipython3",
   "version": "3.7.3"
  }
 },
 "nbformat": 4,
 "nbformat_minor": 2
}
