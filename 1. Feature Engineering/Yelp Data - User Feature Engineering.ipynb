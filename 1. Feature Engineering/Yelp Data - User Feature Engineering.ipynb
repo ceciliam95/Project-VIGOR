{
 "cells": [
  {
   "cell_type": "code",
   "execution_count": 1,
   "metadata": {},
   "outputs": [],
   "source": [
    "#Import Library\n",
    "import json\n",
    "import pandas as pd\n",
    "import nltk\n",
    "import re\n",
    "import numpy as np\n",
    "import matplotlib.pyplot as plt \n",
    "import spacy \n",
    "import math\n",
    "import scipy\n",
    "import seaborn as sns\n",
    "import networkx as nx\n",
    "import collections"
   ]
  },
  {
   "cell_type": "code",
   "execution_count": 2,
   "metadata": {},
   "outputs": [],
   "source": [
    "#user = pd.read_json(\"C:/Users/61424/Desktop/MBusA/Module 5/Business Case Study/yelp_dataset/user.json\", lines = True)\n",
    "\n"
   ]
  },
  {
   "cell_type": "code",
   "execution_count": 4,
   "metadata": {},
   "outputs": [],
   "source": [
    "#user_list = pd.read_pickle(\"C:/Users/61424/Desktop/MBusA/Module 5/Business Case Study/yelp_dataset/User/user_list.pkl\")"
   ]
  },
  {
   "cell_type": "code",
   "execution_count": 7,
   "metadata": {},
   "outputs": [],
   "source": [
    "#user_list.columns = ['user_id']\n",
    "#user_rester = user_list.merge(user,on='user_id',how = 'left')\n"
   ]
  },
  {
   "cell_type": "code",
   "execution_count": 9,
   "metadata": {},
   "outputs": [],
   "source": [
    "#user_rester['friend_count'] = user_rester['friends'].apply(lambda x: len(x.split()))"
   ]
  },
  {
   "cell_type": "code",
   "execution_count": 2,
   "metadata": {},
   "outputs": [],
   "source": [
    "user = pd.read_pickle(\"C:/Users/61424/Desktop/MBusA/Module 5/Business Case Study/yelp_dataset/User/user_rester.pkl\")"
   ]
  },
  {
   "cell_type": "code",
   "execution_count": 3,
   "metadata": {},
   "outputs": [
    {
     "name": "stdout",
     "output_type": "stream",
     "text": [
      "<class 'pandas.core.frame.DataFrame'>\n",
      "Int64Index: 1148098 entries, 0 to 1148097\n",
      "Data columns (total 23 columns):\n",
      "user_id               1148098 non-null object\n",
      "average_stars         1148098 non-null float64\n",
      "compliment_cool       1148098 non-null int64\n",
      "compliment_cute       1148098 non-null int64\n",
      "compliment_funny      1148098 non-null int64\n",
      "compliment_hot        1148098 non-null int64\n",
      "compliment_list       1148098 non-null int64\n",
      "compliment_more       1148098 non-null int64\n",
      "compliment_note       1148098 non-null int64\n",
      "compliment_photos     1148098 non-null int64\n",
      "compliment_plain      1148098 non-null int64\n",
      "compliment_profile    1148098 non-null int64\n",
      "compliment_writer     1148098 non-null int64\n",
      "cool                  1148098 non-null int64\n",
      "elite                 1148098 non-null object\n",
      "fans                  1148098 non-null int64\n",
      "friends               1148098 non-null object\n",
      "funny                 1148098 non-null int64\n",
      "name                  1148098 non-null object\n",
      "review_count          1148098 non-null int64\n",
      "useful                1148098 non-null int64\n",
      "yelping_since         1148098 non-null object\n",
      "friend_count          1148098 non-null int64\n",
      "dtypes: float64(1), int64(17), object(5)\n",
      "memory usage: 210.2+ MB\n"
     ]
    }
   ],
   "source": [
    "user.dropna()\n",
    "user.info()"
   ]
  },
  {
   "cell_type": "code",
   "execution_count": 4,
   "metadata": {},
   "outputs": [],
   "source": [
    "user['yelping_since_date'] = user['yelping_since'].apply(lambda x: str(x).split()[0])"
   ]
  },
  {
   "cell_type": "code",
   "execution_count": 8,
   "metadata": {},
   "outputs": [],
   "source": [
    "user['yelping_since_date'] = pd.to_datetime(user['yelping_since_date'])"
   ]
  },
  {
   "cell_type": "code",
   "execution_count": 18,
   "metadata": {},
   "outputs": [
    {
     "data": {
      "text/plain": [
       "Text(0.5, 1.0, 'total user increase trend')"
      ]
     },
     "execution_count": 18,
     "metadata": {},
     "output_type": "execute_result"
    },
    {
     "data": {
      "image/png": "[encoded data removed]",
      "text/plain": [
       "<Figure size 432x288 with 1 Axes>"
      ]
     },
     "metadata": {
      "needs_background": "light"
     },
     "output_type": "display_data"
    }
   ],
   "source": [
    "#check user increase trend\n",
    "user_increase = user.set_index('yelping_since_date').groupby(pd.Grouper(freq = 'M')).count().loc[:,['user_id']]\n",
    "user_increase.reset_index(level=0, inplace=True)\n",
    "user_increase\n",
    "user_increase.plot(kind='line',x='yelping_since_date',y='user_id',color='green')\n",
    "plt.title('total user increase trend')"
   ]
  },
  {
   "cell_type": "markdown",
   "metadata": {},
   "source": [
    "#extract relavent users "
   ]
  },
  {
   "cell_type": "code",
   "execution_count": 10,
   "metadata": {},
   "outputs": [
    {
     "ename": "NameError",
     "evalue": "name 'review' is not defined",
     "output_type": "error",
     "traceback": [
      "\u001b[1;31m---------------------------------------------------------------------------\u001b[0m",
      "\u001b[1;31mNameError\u001b[0m                                 Traceback (most recent call last)",
      "\u001b[1;32m<ipython-input-10-280cf6dc512d>\u001b[0m in \u001b[0;36m<module>\u001b[1;34m\u001b[0m\n\u001b[0;32m      1\u001b[0m \u001b[0mtarget_business_id_list\u001b[0m \u001b[1;33m=\u001b[0m \u001b[0mpd\u001b[0m\u001b[1;33m.\u001b[0m\u001b[0mDataFrame\u001b[0m\u001b[1;33m(\u001b[0m\u001b[0mtarget_business_id\u001b[0m\u001b[1;33m[\u001b[0m\u001b[1;34m'business_id'\u001b[0m\u001b[1;33m]\u001b[0m\u001b[1;33m)\u001b[0m\u001b[1;33m\u001b[0m\u001b[1;33m\u001b[0m\u001b[0m\n\u001b[1;32m----> 2\u001b[1;33m \u001b[0mtarget_review\u001b[0m \u001b[1;33m=\u001b[0m \u001b[0mreview\u001b[0m\u001b[1;33m.\u001b[0m\u001b[0mmerge\u001b[0m\u001b[1;33m(\u001b[0m\u001b[0mtarget_business_id_list\u001b[0m\u001b[1;33m,\u001b[0m \u001b[0mon\u001b[0m \u001b[1;33m=\u001b[0m \u001b[1;34m'business_id'\u001b[0m\u001b[1;33m,\u001b[0m \u001b[0mhow\u001b[0m \u001b[1;33m=\u001b[0m \u001b[1;34m'inner'\u001b[0m\u001b[1;33m)\u001b[0m\u001b[1;33m\u001b[0m\u001b[1;33m\u001b[0m\u001b[0m\n\u001b[0m",
      "\u001b[1;31mNameError\u001b[0m: name 'review' is not defined"
     ]
    }
   ],
   "source": [
    "target_business_id_list = pd.DataFrame(target_business_id['business_id'])\n",
    "target_review = review.merge(target_business_id_list, on = 'business_id', how = 'inner')"
   ]
  },
  {
   "cell_type": "code",
   "execution_count": 11,
   "metadata": {},
   "outputs": [
    {
     "ename": "NameError",
     "evalue": "name 'target_review' is not defined",
     "output_type": "error",
     "traceback": [
      "\u001b[1;31m---------------------------------------------------------------------------\u001b[0m",
      "\u001b[1;31mNameError\u001b[0m                                 Traceback (most recent call last)",
      "\u001b[1;32m<ipython-input-11-7ee1d21d11ec>\u001b[0m in \u001b[0;36m<module>\u001b[1;34m\u001b[0m\n\u001b[1;32m----> 1\u001b[1;33m \u001b[0mtarget_user\u001b[0m \u001b[1;33m=\u001b[0m \u001b[0mtarget_review\u001b[0m\u001b[1;33m.\u001b[0m\u001b[0mloc\u001b[0m\u001b[1;33m[\u001b[0m\u001b[1;33m:\u001b[0m\u001b[1;33m,\u001b[0m\u001b[1;34m'user_id'\u001b[0m\u001b[1;33m]\u001b[0m\u001b[1;33m.\u001b[0m\u001b[0munique\u001b[0m\u001b[1;33m(\u001b[0m\u001b[1;33m)\u001b[0m\u001b[1;33m\u001b[0m\u001b[1;33m\u001b[0m\u001b[0m\n\u001b[0m\u001b[0;32m      2\u001b[0m \u001b[0mtarget_user\u001b[0m \u001b[1;33m=\u001b[0m \u001b[0mpd\u001b[0m\u001b[1;33m.\u001b[0m\u001b[0mDataFrame\u001b[0m\u001b[1;33m(\u001b[0m\u001b[0mtarget_user\u001b[0m\u001b[1;33m)\u001b[0m\u001b[1;33m\u001b[0m\u001b[1;33m\u001b[0m\u001b[0m\n",
      "\u001b[1;31mNameError\u001b[0m: name 'target_review' is not defined"
     ]
    }
   ],
   "source": [
    "target_user = target_review.loc[:,'user_id'].unique()\n",
    "target_user = pd.DataFrame(target_user)"
   ]
  },
  {
   "cell_type": "code",
   "execution_count": 9,
   "metadata": {},
   "outputs": [
    {
     "name": "stdout",
     "output_type": "stream",
     "text": [
      "<class 'pandas.core.frame.DataFrame'>\n",
      "RangeIndex: 190828 entries, 0 to 190827\n",
      "Data columns (total 1 columns):\n",
      "0    190828 non-null object\n",
      "dtypes: object(1)\n",
      "memory usage: 1.5+ MB\n",
      "None\n",
      "<class 'pandas.core.frame.DataFrame'>\n",
      "Int64Index: 252465 entries, 0 to 252464\n",
      "Data columns (total 24 columns):\n",
      "user_id               252464 non-null object\n",
      "average_stars         252464 non-null float64\n",
      "compliment_cool       252464 non-null float64\n",
      "compliment_cute       252464 non-null float64\n",
      "compliment_funny      252464 non-null float64\n",
      "compliment_hot        252464 non-null float64\n",
      "compliment_list       252464 non-null float64\n",
      "compliment_more       252464 non-null float64\n",
      "compliment_note       252464 non-null float64\n",
      "compliment_photos     252464 non-null float64\n",
      "compliment_plain      252464 non-null float64\n",
      "compliment_profile    252464 non-null float64\n",
      "compliment_writer     252464 non-null float64\n",
      "cool                  252464 non-null float64\n",
      "elite                 252464 non-null object\n",
      "fans                  252464 non-null float64\n",
      "friends               252464 non-null object\n",
      "funny                 252464 non-null float64\n",
      "name                  252464 non-null object\n",
      "review_count          252464 non-null float64\n",
      "useful                252464 non-null float64\n",
      "yelping_since         252464 non-null object\n",
      "friend_count          252464 non-null float64\n",
      "yelping_since_date    252464 non-null datetime64[ns]\n",
      "dtypes: datetime64[ns](1), float64(18), object(5)\n",
      "memory usage: 48.2+ MB\n",
      "None\n"
     ]
    }
   ],
   "source": [
    "print(target_user.info())\n",
    "print(user.info())"
   ]
  },
  {
   "cell_type": "code",
   "execution_count": 10,
   "metadata": {},
   "outputs": [],
   "source": [
    "target_user.columns = ['user_id']\n",
    "target_user_info = user.merge(target_user, on = 'user_id', how = 'inner')"
   ]
  },
  {
   "cell_type": "code",
   "execution_count": 11,
   "metadata": {},
   "outputs": [],
   "source": [
    "target_user_info['yelping_since_date'] = target_user_info['yelping_since'].apply(lambda x: str(x).split()[0])\n",
    "target_user_info['yelping_since_date'] = pd.to_datetime(target_user_info['yelping_since_date'])"
   ]
  },
  {
   "cell_type": "code",
   "execution_count": 12,
   "metadata": {},
   "outputs": [
    {
     "data": {
      "text/plain": [
       "Text(0.5, 1.0, 'total target user increase trend')"
      ]
     },
     "execution_count": 12,
     "metadata": {},
     "output_type": "execute_result"
    },
    {
     "data": {
      "image/png": "[encoded data removed]",
      "text/plain": [
       "<Figure size 432x288 with 1 Axes>"
      ]
     },
     "metadata": {
      "needs_background": "light"
     },
     "output_type": "display_data"
    }
   ],
   "source": [
    "#check taret user increase trend\n",
    "\n",
    "target_user_increase = target_user_info.set_index('yelping_since_date').groupby(pd.Grouper(freq = 'M')).count().loc[:,['user_id']]\n",
    "target_user_increase.reset_index(level=0, inplace=True)\n",
    "target_user_increase\n",
    "target_user_increase.plot(kind='line',x='yelping_since_date',y='user_id',color='green')\n",
    "plt.title('total target user increase trend')"
   ]
  },
  {
   "cell_type": "markdown",
   "metadata": {},
   "source": [
    "#User Feature Engineering\n",
    "#Intersted in potential demographic info\n",
    "\n",
    "#Elite year count\n",
    "#fans \n",
    "#Review count\n",
    "#friend count\n",
    "#yelp year count \n",
    "#resteraunt friends count \n",
    "\n",
    "#degree\n",
    "#Eigenevector Centrality"
   ]
  },
  {
   "cell_type": "code",
   "execution_count": 5,
   "metadata": {},
   "outputs": [],
   "source": [
    "#Elite Year Count\n",
    "user['elite_year_count'] = user['elite'].apply(lambda x: len(str(x).split(',')))"
   ]
  },
  {
   "cell_type": "code",
   "execution_count": 6,
   "metadata": {},
   "outputs": [
    {
     "data": {
      "image/png": "[encoded data removed]",
      "text/plain": [
       "<Figure size 432x288 with 1 Axes>"
      ]
     },
     "metadata": {
      "needs_background": "light"
     },
     "output_type": "display_data"
    }
   ],
   "source": [
    "user['elite_year_count'].hist()\n",
    "plt.show()"
   ]
  },
  {
   "cell_type": "code",
   "execution_count": 9,
   "metadata": {},
   "outputs": [
    {
     "name": "stdout",
     "output_type": "stream",
     "text": [
      "count                 1148098\n",
      "unique                   5025\n",
      "top       2015-10-17 00:00:00\n",
      "freq                      704\n",
      "first     2004-10-12 00:00:00\n",
      "last      2018-11-14 00:00:00\n",
      "Name: yelping_since_date, dtype: object\n"
     ]
    }
   ],
   "source": [
    "#Yelp Year Count\n",
    "print(user['yelping_since_date'].describe())\n",
    "\n",
    "from datetime import datetime\n",
    "end_time = datetime.strptime('2018-12-31','%Y-%m-%d')\n",
    "user['yelp_year_count'] = user['yelping_since_date'].apply(lambda x: str((end_time - x)/365).split()[0])"
   ]
  },
  {
   "cell_type": "code",
   "execution_count": 10,
   "metadata": {},
   "outputs": [],
   "source": [
    "user = user[user['yelp_year_count'] != 'NaT']\n",
    "user['yelp_year_count'] = user['yelp_year_count'].apply(lambda x: float(x))"
   ]
  },
  {
   "cell_type": "code",
   "execution_count": 23,
   "metadata": {},
   "outputs": [
    {
     "data": {
      "text/plain": [
       "<matplotlib.axes._subplots.AxesSubplot at 0x2eb03686ef0>"
      ]
     },
     "execution_count": 23,
     "metadata": {},
     "output_type": "execute_result"
    },
    {
     "data": {
      "image/png": "[encoded data removed]",
      "text/plain": [
       "<Figure size 432x288 with 1 Axes>"
      ]
     },
     "metadata": {
      "needs_background": "light"
     },
     "output_type": "display_data"
    }
   ],
   "source": [
    "user['yelp_year_count'].hist()"
   ]
  },
  {
   "cell_type": "markdown",
   "metadata": {},
   "source": [
    "#Centrality "
   ]
  },
  {
   "cell_type": "code",
   "execution_count": 25,
   "metadata": {},
   "outputs": [],
   "source": [
    "# create adjancent text file from user.json; info is stored as str\n",
    "def adjacent(user):\n",
    "    user = user[user['friend_count']>0]\n",
    "    file = open(\"C:/Users/61424/Desktop/MBusA/Module 5/Business Case Study/yelp_dataset/User/adjacent.txt\", \"w\") \n",
    "    friends = collections.defaultdict(str)\n",
    "    for i in user.index:\n",
    "        friends['user_id'] = user.loc[i,'user_id']\n",
    "        friends['friends'] = user.loc[i,'friends'].split(', ')\n",
    "        file.write(json.dumps(friends))\n",
    "        file.write('\\n')"
   ]
  },
  {
   "cell_type": "code",
   "execution_count": 26,
   "metadata": {},
   "outputs": [],
   "source": [
    "adjacent(user)"
   ]
  },
  {
   "cell_type": "code",
   "execution_count": 27,
   "metadata": {},
   "outputs": [],
   "source": [
    "def edges(user):\n",
    "    file = open(\"C:/Users/61424/Desktop/MBusA/Module 5/Business Case Study/yelp_dataset/User/edges.txt\", \"w\")\n",
    "    with open(\"C:/Users/61424/Desktop/MBusA/Module 5/Business Case Study/yelp_dataset/User/adjacent.txt\", 'r') as f:\n",
    "        for line in f:\n",
    "            data = json.loads(line)\n",
    "            u = data['user_id']\n",
    "            friends = data['friends']\n",
    "            for v in friends:\n",
    "                file.write(u +' ' +v)\n",
    "                file.write('\\n')"
   ]
  },
  {
   "cell_type": "code",
   "execution_count": 28,
   "metadata": {},
   "outputs": [],
   "source": [
    "edges(user)"
   ]
  },
  {
   "cell_type": "code",
   "execution_count": 29,
   "metadata": {},
   "outputs": [],
   "source": [
    "# create a graph from 'adjacent.txt' file\n",
    "def graph():\n",
    "    G = nx.Graph()\n",
    "    with open(\"C:/Users/61424/Desktop/MBusA/Module 5/Business Case Study/yelp_dataset/User/adjacent.txt\", 'r') as f:\n",
    "        for line in f:\n",
    "            data = json.loads(line)\n",
    "            u = data['user_id']\n",
    "            friends = data['friends']\n",
    "            for v in friends:\n",
    "                G.add_edge(u,v)\n",
    "    return G"
   ]
  },
  {
   "cell_type": "code",
   "execution_count": null,
   "metadata": {},
   "outputs": [],
   "source": [
    "graph = graph()"
   ]
  },
  {
   "cell_type": "code",
   "execution_count": 28,
   "metadata": {},
   "outputs": [],
   "source": [
    "df_node_degree = pd.DataFrame(list(dict(graph.degree()).items()), columns=[\"node_name\", \"degree\"])"
   ]
  },
  {
   "cell_type": "code",
   "execution_count": 29,
   "metadata": {},
   "outputs": [
    {
     "name": "stderr",
     "output_type": "stream",
     "text": [
      "ERROR:root:Internal Python error in the inspect module.\n",
      "Below is the traceback from this internal error.\n",
      "\n"
     ]
    },
    {
     "name": "stdout",
     "output_type": "stream",
     "text": [
      "Traceback (most recent call last):\n",
      "  File \"C:\\Users\\61424\\AppData\\Local\\Continuum\\anaconda3\\lib\\site-packages\\IPython\\core\\interactiveshell.py\", line 3296, in run_code\n",
      "    exec(code_obj, self.user_global_ns, self.user_ns)\n",
      "  File \"<ipython-input-29-a25651b02eb7>\", line 1, in <module>\n",
      "    df_node_eigenvector_centrality = pd.DataFrame(list(nx.eigenvector_centrality(graph).items()), columns=[\"node_name\", \"eigenvector_centrality\"])\n",
      "  File \"<C:\\Users\\61424\\AppData\\Local\\Continuum\\anaconda3\\lib\\site-packages\\decorator.py:decorator-gen-264>\", line 2, in eigenvector_centrality\n",
      "  File \"C:\\Users\\61424\\AppData\\Local\\Continuum\\anaconda3\\lib\\site-packages\\networkx\\utils\\decorators.py\", line 82, in _not_implemented_for\n",
      "    return not_implement_for_func(*args, **kwargs)\n",
      "  File \"C:\\Users\\61424\\AppData\\Local\\Continuum\\anaconda3\\lib\\site-packages\\networkx\\algorithms\\centrality\\eigenvector.py\", line 129, in eigenvector_centrality\n",
      "    x = {k: v / sum(nstart.values()) for k, v in nstart.items()}\n",
      "  File \"C:\\Users\\61424\\AppData\\Local\\Continuum\\anaconda3\\lib\\site-packages\\networkx\\algorithms\\centrality\\eigenvector.py\", line 129, in <dictcomp>\n",
      "    x = {k: v / sum(nstart.values()) for k, v in nstart.items()}\n",
      "KeyboardInterrupt\n",
      "\n",
      "During handling of the above exception, another exception occurred:\n",
      "\n",
      "Traceback (most recent call last):\n",
      "  File \"C:\\Users\\61424\\AppData\\Local\\Continuum\\anaconda3\\lib\\site-packages\\IPython\\core\\interactiveshell.py\", line 2033, in showtraceback\n",
      "    stb = value._render_traceback_()\n",
      "AttributeError: 'KeyboardInterrupt' object has no attribute '_render_traceback_'\n",
      "\n",
      "During handling of the above exception, another exception occurred:\n",
      "\n",
      "Traceback (most recent call last):\n",
      "  File \"C:\\Users\\61424\\AppData\\Local\\Continuum\\anaconda3\\lib\\site-packages\\IPython\\core\\ultratb.py\", line 1095, in get_records\n",
      "    return _fixed_getinnerframes(etb, number_of_lines_of_context, tb_offset)\n",
      "  File \"C:\\Users\\61424\\AppData\\Local\\Continuum\\anaconda3\\lib\\site-packages\\IPython\\core\\ultratb.py\", line 313, in wrapped\n",
      "    return f(*args, **kwargs)\n",
      "  File \"C:\\Users\\61424\\AppData\\Local\\Continuum\\anaconda3\\lib\\site-packages\\IPython\\core\\ultratb.py\", line 347, in _fixed_getinnerframes\n",
      "    records = fix_frame_records_filenames(inspect.getinnerframes(etb, context))\n",
      "  File \"C:\\Users\\61424\\AppData\\Local\\Continuum\\anaconda3\\lib\\inspect.py\", line 1502, in getinnerframes\n",
      "    frameinfo = (tb.tb_frame,) + getframeinfo(tb, context)\n",
      "  File \"C:\\Users\\61424\\AppData\\Local\\Continuum\\anaconda3\\lib\\inspect.py\", line 1460, in getframeinfo\n",
      "    filename = getsourcefile(frame) or getfile(frame)\n",
      "  File \"C:\\Users\\61424\\AppData\\Local\\Continuum\\anaconda3\\lib\\inspect.py\", line 696, in getsourcefile\n",
      "    if getattr(getmodule(object, filename), '__loader__', None) is not None:\n",
      "  File \"C:\\Users\\61424\\AppData\\Local\\Continuum\\anaconda3\\lib\\inspect.py\", line 732, in getmodule\n",
      "    for modname, module in list(sys.modules.items()):\n",
      "KeyboardInterrupt\n"
     ]
    },
    {
     "ename": "KeyboardInterrupt",
     "evalue": "",
     "output_type": "error",
     "traceback": [
      "\u001b[1;31m---------------------------------------------------------------------------\u001b[0m"
     ]
    }
   ],
   "source": [
    "df_node_eigenvector_centrality = pd.DataFrame(list(nx.eigenvector_centrality(graph).items()), columns=[\"node_name\", \"eigenvector_centrality\"])"
   ]
  },
  {
   "cell_type": "code",
   "execution_count": null,
   "metadata": {},
   "outputs": [],
   "source": [
    "user_centrality = pd.concat([df_node_closeness_centrality.set_index('node_name'),\n",
    "               df_node_eigenvector_centrality.set_index('node_name'),axis=1)"
   ]
  },
  {
   "cell_type": "code",
   "execution_count": null,
   "metadata": {},
   "outputs": [],
   "source": [
    "\n"
   ]
  },
  {
   "cell_type": "code",
   "execution_count": null,
   "metadata": {},
   "outputs": [],
   "source": []
  },
  {
   "cell_type": "code",
   "execution_count": null,
   "metadata": {},
   "outputs": [],
   "source": []
  },
  {
   "cell_type": "code",
   "execution_count": null,
   "metadata": {},
   "outputs": [],
   "source": []
  },
  {
   "cell_type": "markdown",
   "metadata": {},
   "source": [
    "#Data Export"
   ]
  },
  {
   "cell_type": "code",
   "execution_count": null,
   "metadata": {},
   "outputs": [],
   "source": [
    "user.to_pickle(\"C:/Users/61424/Desktop/MBusA/Module 5/Business Case Study/yelp_dataset/User/user_v1.pkl\") \n",
    "#user_rester.to_pickle(\"C:/Users/61424/Desktop/MBusA/Module 5/Business Case Study/yelp_dataset/User/user_rester.pkl\") "
   ]
  },
  {
   "cell_type": "code",
   "execution_count": null,
   "metadata": {},
   "outputs": [],
   "source": []
  }
 ],
 "metadata": {
  "kernelspec": {
   "display_name": "Python 3",
   "language": "python",
   "name": "python3"
  },
  "language_info": {
   "codemirror_mode": {
    "name": "ipython",
    "version": 3
   },
   "file_extension": ".py",
   "mimetype": "text/x-python",
   "name": "python",
   "nbconvert_exporter": "python",
   "pygments_lexer": "ipython3",
   "version": "3.7.3"
  }
 },
 "nbformat": 4,
 "nbformat_minor": 2
}
